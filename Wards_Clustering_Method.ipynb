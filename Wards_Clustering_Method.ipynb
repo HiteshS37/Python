{
  "nbformat": 4,
  "nbformat_minor": 0,
  "metadata": {
    "colab": {
      "provenance": [],
      "authorship_tag": "ABX9TyNdAEftp+RjpLPemf9mgw0j",
      "include_colab_link": true
    },
    "kernelspec": {
      "name": "python3",
      "display_name": "Python 3"
    },
    "language_info": {
      "name": "python"
    }
  },
  "cells": [
    {
      "cell_type": "markdown",
      "metadata": {
        "id": "view-in-github",
        "colab_type": "text"
      },
      "source": [
        "<a href=\"https://colab.research.google.com/github/HiteshS37/Python/blob/main/Wards_Clustering_Method.ipynb\" target=\"_parent\"><img src=\"https://colab.research.google.com/assets/colab-badge.svg\" alt=\"Open In Colab\"/></a>"
      ]
    },
    {
      "cell_type": "code",
      "source": [
        "import numpy as np\n",
        "from scipy.cluster.hierarchy import ward, dendrogram\n",
        "from scipy.spatial.distance import pdist"
      ],
      "metadata": {
        "id": "6GDVlSL_4zMt"
      },
      "execution_count": null,
      "outputs": []
    },
    {
      "cell_type": "code",
      "source": [
        "# Sample data (replace with your own data)\n",
        "X = np.array([[1,2], [3,4], [5,6], [7,8], [9,10]])"
      ],
      "metadata": {
        "id": "1kePfq7F5Y1z"
      },
      "execution_count": null,
      "outputs": []
    },
    {
      "cell_type": "code",
      "source": [
        "# Calculate pairwisw distances\n",
        "dist = pdist(X)"
      ],
      "metadata": {
        "id": "sehyHeLa5rHL"
      },
      "execution_count": null,
      "outputs": []
    },
    {
      "cell_type": "code",
      "source": [
        "# Perform Ward's Clustering\n",
        "Z = ward(dist)"
      ],
      "metadata": {
        "id": "WZu32naE5xyq"
      },
      "execution_count": null,
      "outputs": []
    },
    {
      "cell_type": "code",
      "source": [
        "# Plot the dendrogram\n",
        "dendrogram(Z, truncate_mode='lastp', p=3)"
      ],
      "metadata": {
        "colab": {
          "base_uri": "https://localhost:8080/",
          "height": 556
        },
        "id": "11LKlVSJ6EeN",
        "outputId": "34c68c5d-5f1a-4257-99c0-d21756067f4b"
      },
      "execution_count": null,
      "outputs": [
        {
          "output_type": "execute_result",
          "data": {
            "text/plain": [
              "{'icoord': [[15.0, 15.0, 25.0, 25.0], [5.0, 5.0, 20.0, 20.0]],\n",
              " 'dcoord': [[0.0, 4.898979485566357, 4.898979485566357, 0.0],\n",
              "  [0.0, 10.954451150103322, 10.954451150103322, 4.898979485566357]],\n",
              " 'ivl': ['(2)', '4', '(2)'],\n",
              " 'leaves': [5, 4, 6],\n",
              " 'color_list': ['C1', 'C0'],\n",
              " 'leaves_color_list': ['C0', 'C1', 'C1']}"
            ]
          },
          "metadata": {},
          "execution_count": 6
        },
        {
          "output_type": "display_data",
          "data": {
            "text/plain": [
              "<Figure size 640x480 with 1 Axes>"
            ],
            "image/png": "[encoded data removed]"
          },
          "metadata": {}
        }
      ]
    }
  ]
}